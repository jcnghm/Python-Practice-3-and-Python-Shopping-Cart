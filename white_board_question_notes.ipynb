{
 "cells": [
  {
   "cell_type": "code",
   "execution_count": null,
   "id": "e925931e",
   "metadata": {},
   "outputs": [],
   "source": [
    "# Whiteboard Question\n",
    "def remove_vowels(string):\n",
    "    string = string.lower()\n",
    "    for letter in string:\n",
    "        if letter == 'a' or letter == 'e' or letter == 'i' or letter == 'o' or letter == 'u': # or if letter in [list vowels or a string containing the letters you want to remove]:\n",
    "            string = string.lower().replace(letter, '')\n",
    "        else:\n",
    "            continue\n",
    "    return string\n",
    "remove_vowels('Josh')\n",
    "\n",
    "# One Liner\n",
    "\n",
    "# def remove_vowels(string):\n",
    "#     return \"\".join([i for i in string if i not in \"aeiou\"])\n",
    "# remove_vowels(\"Terrell\"\n",
    "\n",
    "\n",
    "\n",
    "\n",
    "# Function Exercise from homework(alternate way)\n",
    "\n",
    "# new_list = []\n",
    "# def build_name(first_name, last_name):\n",
    "#     zip1 = zip(first_name, last_name)\n",
    "#     for first, last in zip1:\n",
    "#         full = first + ' ' + last\n",
    "#         new_list.append(full)\n",
    "#     return new_list\n",
    "\n",
    "# print(build_name(first_name, last_name))\n",
    "\n",
    "# One liner\n",
    "# def full_names(first,last):\n",
    "#     full = [first[i] + ' ' + last[i]] for i in range(len(first))"
   ]
  }
 ],
 "metadata": {
  "kernelspec": {
   "display_name": "Python 3",
   "language": "python",
   "name": "python3"
  },
  "language_info": {
   "codemirror_mode": {
    "name": "ipython",
    "version": 3
   },
   "file_extension": ".py",
   "mimetype": "text/x-python",
   "name": "python",
   "nbconvert_exporter": "python",
   "pygments_lexer": "ipython3",
   "version": "3.8.8"
  }
 },
 "nbformat": 4,
 "nbformat_minor": 5
}
